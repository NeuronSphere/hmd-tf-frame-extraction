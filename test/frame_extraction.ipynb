{
 "cells": [
  {
   "cell_type": "code",
   "execution_count": 1,
   "id": "7ee3efde",
   "metadata": {
    "execution": {
     "iopub.execute_input": "2024-02-09T16:20:33.798701Z",
     "iopub.status.busy": "2024-02-09T16:20:33.797854Z",
     "iopub.status.idle": "2024-02-09T16:20:33.808992Z",
     "shell.execute_reply": "2024-02-09T16:20:33.808050Z"
    },
    "papermill": {
     "duration": 0.018398,
     "end_time": "2024-02-09T16:20:33.811286",
     "exception": false,
     "start_time": "2024-02-09T16:20:33.792888",
     "status": "completed"
    },
    "tags": [
     "parameters"
    ]
   },
   "outputs": [],
   "source": [
    "# Default input/output volume parameters passed into notebook. These will be replaced by transform\n",
    "transform_input_path = \"../../test/\"\n",
    "transform_output_path = \"../../test/\"\n",
    "\n",
    "frame_rate = 0.5"
   ]
  },
  {
   "cell_type": "code",
   "execution_count": 2,
   "id": "95d0be73",
   "metadata": {
    "execution": {
     "iopub.execute_input": "2024-02-09T16:20:33.818480Z",
     "iopub.status.busy": "2024-02-09T16:20:33.818014Z",
     "iopub.status.idle": "2024-02-09T16:20:33.823253Z",
     "shell.execute_reply": "2024-02-09T16:20:33.822200Z"
    },
    "papermill": {
     "duration": 0.011369,
     "end_time": "2024-02-09T16:20:33.825412",
     "exception": false,
     "start_time": "2024-02-09T16:20:33.814043",
     "status": "completed"
    },
    "tags": [
     "injected-parameters"
    ]
   },
   "outputs": [],
   "source": [
    "# Parameters\n",
    "transform_input_path = \"/hmd_transform/input\"\n",
    "transform_output_path = \"/hmd_transform/output\"\n"
   ]
  },
  {
   "cell_type": "code",
   "execution_count": 3,
   "id": "e7d15d3c",
   "metadata": {
    "execution": {
     "iopub.execute_input": "2024-02-09T16:20:33.832153Z",
     "iopub.status.busy": "2024-02-09T16:20:33.831666Z",
     "iopub.status.idle": "2024-02-09T16:20:41.521902Z",
     "shell.execute_reply": "2024-02-09T16:20:41.520076Z"
    },
    "papermill": {
     "duration": 7.69773,
     "end_time": "2024-02-09T16:20:41.525548",
     "exception": false,
     "start_time": "2024-02-09T16:20:33.827818",
     "status": "completed"
    },
    "tags": []
   },
   "outputs": [
    {
     "name": "stdout",
     "output_type": "stream",
     "text": [
      "Collecting opencv-python\r\n"
     ]
    },
    {
     "name": "stdout",
     "output_type": "stream",
     "text": [
      "  Downloading opencv_python-4.9.0.80-cp37-abi3-manylinux_2_17_x86_64.manylinux2014_x86_64.whl (62.2 MB)\r\n",
      "\u001b[?25l     \u001b[90m━━━━━━━━━━━━━━━━━━━━━━━━━━━━━━━━━━━━━━━━\u001b[0m \u001b[32m0.0/62.2 MB\u001b[0m \u001b[31m?\u001b[0m eta \u001b[36m-:--:--\u001b[0m"
     ]
    },
    {
     "name": "stdout",
     "output_type": "stream",
     "text": [
      "\r",
      "\u001b[2K     \u001b[90m━━━━━━━━━━━━━━━━━━━━━━━━━━━━━━━━━━━━━━━━\u001b[0m \u001b[32m0.1/62.2 MB\u001b[0m \u001b[31m1.6 MB/s\u001b[0m eta \u001b[36m0:00:39\u001b[0m\r",
      "\u001b[2K     \u001b[90m━━━━━━━━━━━━━━━━━━━━━━━━━━━━━━━━━━━━━━━━\u001b[0m \u001b[32m0.3/62.2 MB\u001b[0m \u001b[31m3.9 MB/s\u001b[0m eta \u001b[36m0:00:16\u001b[0m"
     ]
    },
    {
     "name": "stdout",
     "output_type": "stream",
     "text": [
      "\r",
      "\u001b[2K     \u001b[91m╸\u001b[0m\u001b[90m━━━━━━━━━━━━━━━━━━━━━━━━━━━━━━━━━━━━━━━\u001b[0m \u001b[32m1.1/62.2 MB\u001b[0m \u001b[31m10.4 MB/s\u001b[0m eta \u001b[36m0:00:06\u001b[0m"
     ]
    },
    {
     "name": "stdout",
     "output_type": "stream",
     "text": [
      "\r",
      "\u001b[2K     \u001b[91m━\u001b[0m\u001b[91m╸\u001b[0m\u001b[90m━━━━━━━━━━━━━━━━━━━━━━━━━━━━━━━━━━━━━━\u001b[0m \u001b[32m3.1/62.2 MB\u001b[0m \u001b[31m21.0 MB/s\u001b[0m eta \u001b[36m0:00:03\u001b[0m\r",
      "\u001b[2K     \u001b[91m━━━\u001b[0m\u001b[90m╺\u001b[0m\u001b[90m━━━━━━━━━━━━━━━━━━━━━━━━━━━━━━━━━━━━\u001b[0m \u001b[32m5.2/62.2 MB\u001b[0m \u001b[31m28.8 MB/s\u001b[0m eta \u001b[36m0:00:02\u001b[0m"
     ]
    },
    {
     "name": "stdout",
     "output_type": "stream",
     "text": [
      "\r",
      "\u001b[2K     \u001b[91m━━━━\u001b[0m\u001b[91m╸\u001b[0m\u001b[90m━━━━━━━━━━━━━━━━━━━━━━━━━━━━━━━━━━━\u001b[0m \u001b[32m7.6/62.2 MB\u001b[0m \u001b[31m34.6 MB/s\u001b[0m eta \u001b[36m0:00:02\u001b[0m"
     ]
    },
    {
     "name": "stdout",
     "output_type": "stream",
     "text": [
      "\r",
      "\u001b[2K     \u001b[91m━━━━━━\u001b[0m\u001b[90m╺\u001b[0m\u001b[90m━━━━━━━━━━━━━━━━━━━━━━━━━━━━━━━━━\u001b[0m \u001b[32m9.7/62.2 MB\u001b[0m \u001b[31m38.7 MB/s\u001b[0m eta \u001b[36m0:00:02\u001b[0m"
     ]
    },
    {
     "name": "stdout",
     "output_type": "stream",
     "text": [
      "\r",
      "\u001b[2K     \u001b[91m━━━━━━━\u001b[0m\u001b[90m╺\u001b[0m\u001b[90m━━━━━━━━━━━━━━━━━━━━━━━━━━━━━━━━\u001b[0m \u001b[32m11.7/62.2 MB\u001b[0m \u001b[31m58.4 MB/s\u001b[0m eta \u001b[36m0:00:01\u001b[0m\r",
      "\u001b[2K     \u001b[91m━━━━━━━━\u001b[0m\u001b[91m╸\u001b[0m\u001b[90m━━━━━━━━━━━━━━━━━━━━━━━━━━━━━━━\u001b[0m \u001b[32m14.0/62.2 MB\u001b[0m \u001b[31m58.6 MB/s\u001b[0m eta \u001b[36m0:00:01\u001b[0m"
     ]
    },
    {
     "name": "stdout",
     "output_type": "stream",
     "text": [
      "\r",
      "\u001b[2K     \u001b[91m━━━━━━━━━━\u001b[0m\u001b[91m╸\u001b[0m\u001b[90m━━━━━━━━━━━━━━━━━━━━━━━━━━━━━\u001b[0m \u001b[32m16.5/62.2 MB\u001b[0m \u001b[31m61.9 MB/s\u001b[0m eta \u001b[36m0:00:01\u001b[0m"
     ]
    },
    {
     "name": "stdout",
     "output_type": "stream",
     "text": [
      "\r",
      "\u001b[2K     \u001b[91m━━━━━━━━━━━━\u001b[0m\u001b[90m╺\u001b[0m\u001b[90m━━━━━━━━━━━━━━━━━━━━━━━━━━━\u001b[0m \u001b[32m18.7/62.2 MB\u001b[0m \u001b[31m62.3 MB/s\u001b[0m eta \u001b[36m0:00:01\u001b[0m\r",
      "\u001b[2K     \u001b[91m━━━━━━━━━━━━━\u001b[0m\u001b[90m╺\u001b[0m\u001b[90m━━━━━━━━━━━━━━━━━━━━━━━━━━\u001b[0m \u001b[32m20.4/62.2 MB\u001b[0m \u001b[31m61.8 MB/s\u001b[0m eta \u001b[36m0:00:01\u001b[0m"
     ]
    },
    {
     "name": "stdout",
     "output_type": "stream",
     "text": [
      "\r",
      "\u001b[2K     \u001b[91m━━━━━━━━━━━━━━\u001b[0m\u001b[90m╺\u001b[0m\u001b[90m━━━━━━━━━━━━━━━━━━━━━━━━━\u001b[0m \u001b[32m22.2/62.2 MB\u001b[0m \u001b[31m58.1 MB/s\u001b[0m eta \u001b[36m0:00:01\u001b[0m"
     ]
    },
    {
     "name": "stdout",
     "output_type": "stream",
     "text": [
      "\r",
      "\u001b[2K     \u001b[91m━━━━━━━━━━━━━━━\u001b[0m\u001b[91m╸\u001b[0m\u001b[90m━━━━━━━━━━━━━━━━━━━━━━━━\u001b[0m \u001b[32m24.2/62.2 MB\u001b[0m \u001b[31m54.6 MB/s\u001b[0m eta \u001b[36m0:00:01\u001b[0m"
     ]
    },
    {
     "name": "stdout",
     "output_type": "stream",
     "text": [
      "\r",
      "\u001b[2K     \u001b[91m━━━━━━━━━━━━━━━━━\u001b[0m\u001b[90m╺\u001b[0m\u001b[90m━━━━━━━━━━━━━━━━━━━━━━\u001b[0m \u001b[32m27.2/62.2 MB\u001b[0m \u001b[31m56.8 MB/s\u001b[0m eta \u001b[36m0:00:01\u001b[0m\r",
      "\u001b[2K     \u001b[91m━━━━━━━━━━━━━━━━━━\u001b[0m\u001b[91m╸\u001b[0m\u001b[90m━━━━━━━━━━━━━━━━━━━━━\u001b[0m \u001b[32m29.2/62.2 MB\u001b[0m \u001b[31m58.9 MB/s\u001b[0m eta \u001b[36m0:00:01\u001b[0m"
     ]
    },
    {
     "name": "stdout",
     "output_type": "stream",
     "text": [
      "\r",
      "\u001b[2K     \u001b[91m━━━━━━━━━━━━━━━━━━━━\u001b[0m\u001b[90m╺\u001b[0m\u001b[90m━━━━━━━━━━━━━━━━━━━\u001b[0m \u001b[32m31.7/62.2 MB\u001b[0m \u001b[31m58.0 MB/s\u001b[0m eta \u001b[36m0:00:01\u001b[0m"
     ]
    },
    {
     "name": "stdout",
     "output_type": "stream",
     "text": [
      "\r",
      "\u001b[2K     \u001b[91m━━━━━━━━━━━━━━━━━━━━━\u001b[0m\u001b[91m╸\u001b[0m\u001b[90m━━━━━━━━━━━━━━━━━━\u001b[0m \u001b[32m33.5/62.2 MB\u001b[0m \u001b[31m66.2 MB/s\u001b[0m eta \u001b[36m0:00:01\u001b[0m"
     ]
    },
    {
     "name": "stdout",
     "output_type": "stream",
     "text": [
      "\r",
      "\u001b[2K     \u001b[91m━━━━━━━━━━━━━━━━━━━━━━━\u001b[0m\u001b[90m╺\u001b[0m\u001b[90m━━━━━━━━━━━━━━━━\u001b[0m \u001b[32m35.9/62.2 MB\u001b[0m \u001b[31m60.5 MB/s\u001b[0m eta \u001b[36m0:00:01\u001b[0m\r",
      "\u001b[2K     \u001b[91m━━━━━━━━━━━━━━━━━━━━━━━━\u001b[0m\u001b[91m╸\u001b[0m\u001b[90m━━━━━━━━━━━━━━━\u001b[0m \u001b[32m38.3/62.2 MB\u001b[0m \u001b[31m57.4 MB/s\u001b[0m eta \u001b[36m0:00:01\u001b[0m"
     ]
    },
    {
     "name": "stdout",
     "output_type": "stream",
     "text": [
      "\r",
      "\u001b[2K     \u001b[91m━━━━━━━━━━━━━━━━━━━━━━━━━\u001b[0m\u001b[91m╸\u001b[0m\u001b[90m━━━━━━━━━━━━━━\u001b[0m \u001b[32m39.9/62.2 MB\u001b[0m \u001b[31m56.9 MB/s\u001b[0m eta \u001b[36m0:00:01\u001b[0m"
     ]
    },
    {
     "name": "stdout",
     "output_type": "stream",
     "text": [
      "\r",
      "\u001b[2K     \u001b[91m━━━━━━━━━━━━━━━━━━━━━━━━━━\u001b[0m\u001b[90m╺\u001b[0m\u001b[90m━━━━━━━━━━━━━\u001b[0m \u001b[32m40.8/62.2 MB\u001b[0m \u001b[31m56.1 MB/s\u001b[0m eta \u001b[36m0:00:01\u001b[0m"
     ]
    },
    {
     "name": "stdout",
     "output_type": "stream",
     "text": [
      "\r",
      "\u001b[2K     \u001b[91m━━━━━━━━━━━━━━━━━━━━━━━━━━\u001b[0m\u001b[91m╸\u001b[0m\u001b[90m━━━━━━━━━━━━━\u001b[0m \u001b[32m41.9/62.2 MB\u001b[0m \u001b[31m45.3 MB/s\u001b[0m eta \u001b[36m0:00:01\u001b[0m\r",
      "\u001b[2K     \u001b[91m━━━━━━━━━━━━━━━━━━━━━━━━━━━━\u001b[0m\u001b[90m╺\u001b[0m\u001b[90m━━━━━━━━━━━\u001b[0m \u001b[32m44.1/62.2 MB\u001b[0m \u001b[31m46.3 MB/s\u001b[0m eta \u001b[36m0:00:01\u001b[0m"
     ]
    },
    {
     "name": "stdout",
     "output_type": "stream",
     "text": [
      "\r",
      "\u001b[2K     \u001b[91m━━━━━━━━━━━━━━━━━━━━━━━━━━━━━\u001b[0m\u001b[91m╸\u001b[0m\u001b[90m━━━━━━━━━━\u001b[0m \u001b[32m46.3/62.2 MB\u001b[0m \u001b[31m46.8 MB/s\u001b[0m eta \u001b[36m0:00:01\u001b[0m"
     ]
    },
    {
     "name": "stdout",
     "output_type": "stream",
     "text": [
      "\r",
      "\u001b[2K     \u001b[91m━━━━━━━━━━━━━━━━━━━━━━━━━━━━━━━\u001b[0m\u001b[90m╺\u001b[0m\u001b[90m━━━━━━━━\u001b[0m \u001b[32m48.7/62.2 MB\u001b[0m \u001b[31m46.7 MB/s\u001b[0m eta \u001b[36m0:00:01\u001b[0m"
     ]
    },
    {
     "name": "stdout",
     "output_type": "stream",
     "text": [
      "\r",
      "\u001b[2K     \u001b[91m━━━━━━━━━━━━━━━━━━━━━━━━━━━━━━━━\u001b[0m\u001b[91m╸\u001b[0m\u001b[90m━━━━━━━\u001b[0m \u001b[32m50.6/62.2 MB\u001b[0m \u001b[31m49.1 MB/s\u001b[0m eta \u001b[36m0:00:01\u001b[0m\r",
      "\u001b[2K     \u001b[91m━━━━━━━━━━━━━━━━━━━━━━━━━━━━━━━━━━\u001b[0m\u001b[90m╺\u001b[0m\u001b[90m━━━━━\u001b[0m \u001b[32m53.0/62.2 MB\u001b[0m \u001b[31m57.9 MB/s\u001b[0m eta \u001b[36m0:00:01\u001b[0m"
     ]
    },
    {
     "name": "stdout",
     "output_type": "stream",
     "text": [
      "\r",
      "\u001b[2K     \u001b[91m━━━━━━━━━━━━━━━━━━━━━━━━━━━━━━━━━━━\u001b[0m\u001b[90m╺\u001b[0m\u001b[90m━━━━\u001b[0m \u001b[32m55.0/62.2 MB\u001b[0m \u001b[31m57.7 MB/s\u001b[0m eta \u001b[36m0:00:01\u001b[0m"
     ]
    },
    {
     "name": "stdout",
     "output_type": "stream",
     "text": [
      "\r",
      "\u001b[2K     \u001b[91m━━━━━━━━━━━━━━━━━━━━━━━━━━━━━━━━━━━━\u001b[0m\u001b[91m╸\u001b[0m\u001b[90m━━━\u001b[0m \u001b[32m56.8/62.2 MB\u001b[0m \u001b[31m55.9 MB/s\u001b[0m eta \u001b[36m0:00:01\u001b[0m"
     ]
    },
    {
     "name": "stdout",
     "output_type": "stream",
     "text": [
      "\r",
      "\u001b[2K     \u001b[91m━━━━━━━━━━━━━━━━━━━━━━━━━━━━━━━━━━━━━\u001b[0m\u001b[91m╸\u001b[0m\u001b[90m━━\u001b[0m \u001b[32m59.0/62.2 MB\u001b[0m \u001b[31m56.5 MB/s\u001b[0m eta \u001b[36m0:00:01\u001b[0m\r",
      "\u001b[2K     \u001b[91m━━━━━━━━━━━━━━━━━━━━━━━━━━━━━━━━━━━━━━━\u001b[0m\u001b[91m╸\u001b[0m \u001b[32m61.5/62.2 MB\u001b[0m \u001b[31m58.0 MB/s\u001b[0m eta \u001b[36m0:00:01\u001b[0m"
     ]
    },
    {
     "name": "stdout",
     "output_type": "stream",
     "text": [
      "\r",
      "\u001b[2K     \u001b[91m━━━━━━━━━━━━━━━━━━━━━━━━━━━━━━━━━━━━━━━\u001b[0m\u001b[91m╸\u001b[0m \u001b[32m62.2/62.2 MB\u001b[0m \u001b[31m54.5 MB/s\u001b[0m eta \u001b[36m0:00:01\u001b[0m\r",
      "\u001b[2K     \u001b[91m━━━━━━━━━━━━━━━━━━━━━━━━━━━━━━━━━━━━━━━\u001b[0m\u001b[91m╸\u001b[0m \u001b[32m62.2/62.2 MB\u001b[0m \u001b[31m54.5 MB/s\u001b[0m eta \u001b[36m0:00:01\u001b[0m"
     ]
    },
    {
     "name": "stdout",
     "output_type": "stream",
     "text": [
      "\r",
      "\u001b[2K     \u001b[91m━━━━━━━━━━━━━━━━━━━━━━━━━━━━━━━━━━━━━━━\u001b[0m\u001b[91m╸\u001b[0m \u001b[32m62.2/62.2 MB\u001b[0m \u001b[31m54.5 MB/s\u001b[0m eta \u001b[36m0:00:01\u001b[0m"
     ]
    },
    {
     "name": "stdout",
     "output_type": "stream",
     "text": [
      "\r",
      "\u001b[2K     \u001b[91m━━━━━━━━━━━━━━━━━━━━━━━━━━━━━━━━━━━━━━━\u001b[0m\u001b[91m╸\u001b[0m \u001b[32m62.2/62.2 MB\u001b[0m \u001b[31m54.5 MB/s\u001b[0m eta \u001b[36m0:00:01\u001b[0m"
     ]
    },
    {
     "name": "stdout",
     "output_type": "stream",
     "text": [
      "\r",
      "\u001b[2K     \u001b[91m━━━━━━━━━━━━━━━━━━━━━━━━━━━━━━━━━━━━━━━\u001b[0m\u001b[91m╸\u001b[0m \u001b[32m62.2/62.2 MB\u001b[0m \u001b[31m54.5 MB/s\u001b[0m eta \u001b[36m0:00:01\u001b[0m\r",
      "\u001b[2K     \u001b[91m━━━━━━━━━━━━━━━━━━━━━━━━━━━━━━━━━━━━━━━\u001b[0m\u001b[91m╸\u001b[0m \u001b[32m62.2/62.2 MB\u001b[0m \u001b[31m54.5 MB/s\u001b[0m eta \u001b[36m0:00:01\u001b[0m\r",
      "\u001b[2K     \u001b[90m━━━━━━━━━━━━━━━━━━━━━━━━━━━━━━━━━━━━━━━━\u001b[0m \u001b[32m62.2/62.2 MB\u001b[0m \u001b[31m23.8 MB/s\u001b[0m eta \u001b[36m0:00:00\u001b[0m\r\n",
      "\u001b[?25h"
     ]
    },
    {
     "name": "stdout",
     "output_type": "stream",
     "text": [
      "Requirement already satisfied: numpy>=1.19.3 in /opt/conda/lib/python3.10/site-packages (from opencv-python) (1.23.5)\r\n"
     ]
    },
    {
     "name": "stdout",
     "output_type": "stream",
     "text": [
      "Installing collected packages: opencv-python\r\n"
     ]
    },
    {
     "name": "stdout",
     "output_type": "stream",
     "text": [
      "Successfully installed opencv-python-4.9.0.80\r\n"
     ]
    }
   ],
   "source": [
    "!pip install opencv-python"
   ]
  },
  {
   "cell_type": "code",
   "execution_count": 4,
   "id": "90b0f753",
   "metadata": {
    "execution": {
     "iopub.execute_input": "2024-02-09T16:20:41.546469Z",
     "iopub.status.busy": "2024-02-09T16:20:41.545605Z",
     "iopub.status.idle": "2024-02-09T16:20:41.783084Z",
     "shell.execute_reply": "2024-02-09T16:20:41.782356Z"
    },
    "papermill": {
     "duration": 0.251235,
     "end_time": "2024-02-09T16:20:41.785322",
     "exception": false,
     "start_time": "2024-02-09T16:20:41.534087",
     "status": "completed"
    },
    "tags": []
   },
   "outputs": [],
   "source": [
    "import cv2\n",
    "import numpy as np\n",
    "import os\n",
    "from pathlib import Path\n",
    "from os.path import isfile, join\n",
    "\n",
    "input_path = Path(transform_input_path) / \"videos\"\n",
    "output_path = Path(transform_output_path) / \"images\"\n",
    "\n",
    "def get_frame(vidcap, sec, count, output):    \n",
    "    # vidcap.set(cv2.CAP_PROP_POS_MSEC,sec*1000)\n",
    "    hasFrames,image = vidcap.read()\n",
    "    if hasFrames:\n",
    "        outfile = str(output / f\"image{count}.jpg\")\n",
    "        print(f\"Writing image {outfile} file\")\n",
    "        cv2.imwrite(outfile, image)     # save frame as JPG file\n",
    "    return hasFrames\n"
   ]
  },
  {
   "cell_type": "code",
   "execution_count": 5,
   "id": "26f9eb45",
   "metadata": {
    "execution": {
     "iopub.execute_input": "2024-02-09T16:20:41.798317Z",
     "iopub.status.busy": "2024-02-09T16:20:41.797759Z",
     "iopub.status.idle": "2024-02-09T16:21:10.080006Z",
     "shell.execute_reply": "2024-02-09T16:21:10.077465Z"
    },
    "papermill": {
     "duration": 28.295709,
     "end_time": "2024-02-09T16:21:10.086240",
     "exception": false,
     "start_time": "2024-02-09T16:20:41.790531",
     "status": "completed"
    },
    "tags": []
   },
   "outputs": [
    {
     "name": "stdout",
     "output_type": "stream",
     "text": [
      "Writing image /hmd_transform/output/images/IMG_3854/image1.jpg file\n",
      "Writing image /hmd_transform/output/images/IMG_3854/image2.jpg file\n",
      "Writing image /hmd_transform/output/images/IMG_3854/image3.jpg file\n",
      "Writing image /hmd_transform/output/images/IMG_3854/image4.jpg file\n"
     ]
    },
    {
     "name": "stdout",
     "output_type": "stream",
     "text": [
      "Writing image /hmd_transform/output/images/IMG_3854/image5.jpg file\n",
      "Writing image /hmd_transform/output/images/IMG_3854/image6.jpg file\n",
      "Writing image /hmd_transform/output/images/IMG_3854/image7.jpg file\n",
      "Writing image /hmd_transform/output/images/IMG_3854/image8.jpg file\n"
     ]
    },
    {
     "name": "stdout",
     "output_type": "stream",
     "text": [
      "Writing image /hmd_transform/output/images/IMG_3854/image9.jpg file\n",
      "Writing image /hmd_transform/output/images/IMG_3854/image10.jpg file\n",
      "Writing image /hmd_transform/output/images/IMG_3854/image11.jpg file\n",
      "Writing image /hmd_transform/output/images/IMG_3854/image12.jpg file\n"
     ]
    },
    {
     "name": "stdout",
     "output_type": "stream",
     "text": [
      "Writing image /hmd_transform/output/images/IMG_3854/image13.jpg file\n",
      "Writing image /hmd_transform/output/images/IMG_3854/image14.jpg file\n",
      "Writing image /hmd_transform/output/images/IMG_3854/image15.jpg file\n",
      "Writing image /hmd_transform/output/images/IMG_3854/image16.jpg file\n"
     ]
    },
    {
     "name": "stdout",
     "output_type": "stream",
     "text": [
      "Writing image /hmd_transform/output/images/IMG_3854/image17.jpg file\n",
      "Writing image /hmd_transform/output/images/IMG_3854/image18.jpg file\n",
      "Writing image /hmd_transform/output/images/IMG_3854/image19.jpg file\n",
      "Writing image /hmd_transform/output/images/IMG_3854/image20.jpg file\n"
     ]
    },
    {
     "name": "stdout",
     "output_type": "stream",
     "text": [
      "Writing image /hmd_transform/output/images/IMG_3854/image21.jpg file\n",
      "Writing image /hmd_transform/output/images/IMG_3854/image22.jpg file\n",
      "Writing image /hmd_transform/output/images/IMG_3854/image23.jpg file\n"
     ]
    },
    {
     "name": "stdout",
     "output_type": "stream",
     "text": [
      "Writing image /hmd_transform/output/images/IMG_3854/image24.jpg file\n",
      "Writing image /hmd_transform/output/images/IMG_3854/image25.jpg file\n",
      "Writing image /hmd_transform/output/images/IMG_3854/image26.jpg file\n"
     ]
    },
    {
     "name": "stdout",
     "output_type": "stream",
     "text": [
      "Writing image /hmd_transform/output/images/IMG_3854/image27.jpg file\n",
      "Writing image /hmd_transform/output/images/IMG_3854/image28.jpg file\n",
      "Writing image /hmd_transform/output/images/IMG_3854/image29.jpg file\n"
     ]
    },
    {
     "name": "stdout",
     "output_type": "stream",
     "text": [
      "Writing image /hmd_transform/output/images/IMG_3854/image30.jpg file\n",
      "Writing image /hmd_transform/output/images/IMG_3854/image31.jpg file\n",
      "Writing image /hmd_transform/output/images/IMG_3854/image32.jpg file\n",
      "Writing image /hmd_transform/output/images/IMG_3854/image33.jpg file\n"
     ]
    },
    {
     "name": "stdout",
     "output_type": "stream",
     "text": [
      "Writing image /hmd_transform/output/images/IMG_3854/image34.jpg file\n",
      "Writing image /hmd_transform/output/images/IMG_3854/image35.jpg file\n",
      "Writing image /hmd_transform/output/images/IMG_3854/image36.jpg file\n"
     ]
    },
    {
     "name": "stdout",
     "output_type": "stream",
     "text": [
      "Writing image /hmd_transform/output/images/IMG_3854/image37.jpg file\n",
      "Writing image /hmd_transform/output/images/IMG_3854/image38.jpg file\n",
      "Writing image /hmd_transform/output/images/IMG_3854/image39.jpg file\n",
      "Writing image /hmd_transform/output/images/IMG_3854/image40.jpg file\n"
     ]
    },
    {
     "name": "stdout",
     "output_type": "stream",
     "text": [
      "Writing image /hmd_transform/output/images/IMG_3854/image41.jpg file\n",
      "Writing image /hmd_transform/output/images/IMG_3854/image42.jpg file\n",
      "Writing image /hmd_transform/output/images/IMG_3854/image43.jpg file\n"
     ]
    },
    {
     "name": "stdout",
     "output_type": "stream",
     "text": [
      "Writing image /hmd_transform/output/images/IMG_3854/image44.jpg file\n",
      "Writing image /hmd_transform/output/images/IMG_3854/image45.jpg file\n",
      "Writing image /hmd_transform/output/images/IMG_3854/image46.jpg file\n"
     ]
    },
    {
     "name": "stdout",
     "output_type": "stream",
     "text": [
      "Writing image /hmd_transform/output/images/IMG_3854/image47.jpg file\n",
      "Writing image /hmd_transform/output/images/IMG_3854/image48.jpg file\n",
      "Writing image /hmd_transform/output/images/IMG_3854/image49.jpg file\n",
      "Writing image /hmd_transform/output/images/IMG_3854/image50.jpg file\n"
     ]
    },
    {
     "name": "stdout",
     "output_type": "stream",
     "text": [
      "Writing image /hmd_transform/output/images/IMG_3854/image51.jpg file\n",
      "Writing image /hmd_transform/output/images/IMG_3854/image52.jpg file\n",
      "Writing image /hmd_transform/output/images/IMG_3854/image53.jpg file\n"
     ]
    },
    {
     "name": "stdout",
     "output_type": "stream",
     "text": [
      "Writing image /hmd_transform/output/images/IMG_3854/image54.jpg file\n",
      "Writing image /hmd_transform/output/images/IMG_3854/image55.jpg file\n",
      "Writing image /hmd_transform/output/images/IMG_3854/image56.jpg file\n"
     ]
    },
    {
     "name": "stdout",
     "output_type": "stream",
     "text": [
      "Writing image /hmd_transform/output/images/IMG_3854/image57.jpg file\n",
      "Writing image /hmd_transform/output/images/IMG_3854/image58.jpg file\n",
      "Writing image /hmd_transform/output/images/IMG_3854/image59.jpg file\n"
     ]
    },
    {
     "name": "stdout",
     "output_type": "stream",
     "text": [
      "Writing image /hmd_transform/output/images/IMG_3854/image60.jpg file\n",
      "Writing image /hmd_transform/output/images/IMG_3854/image61.jpg file\n",
      "Writing image /hmd_transform/output/images/IMG_3854/image62.jpg file\n"
     ]
    },
    {
     "name": "stdout",
     "output_type": "stream",
     "text": [
      "Writing image /hmd_transform/output/images/IMG_3854/image63.jpg file\n",
      "Writing image /hmd_transform/output/images/IMG_3854/image64.jpg file\n",
      "Writing image /hmd_transform/output/images/IMG_3854/image65.jpg file\n",
      "Writing image /hmd_transform/output/images/IMG_3854/image66.jpg file\n"
     ]
    },
    {
     "name": "stdout",
     "output_type": "stream",
     "text": [
      "Writing image /hmd_transform/output/images/IMG_3854/image67.jpg file\n",
      "Writing image /hmd_transform/output/images/IMG_3854/image68.jpg file\n",
      "Writing image /hmd_transform/output/images/IMG_3854/image69.jpg file\n",
      "Writing image /hmd_transform/output/images/IMG_3854/image70.jpg file\n"
     ]
    },
    {
     "name": "stdout",
     "output_type": "stream",
     "text": [
      "Writing image /hmd_transform/output/images/IMG_3854/image71.jpg file\n",
      "Writing image /hmd_transform/output/images/IMG_3854/image72.jpg file\n",
      "Writing image /hmd_transform/output/images/IMG_3854/image73.jpg file\n",
      "Writing image /hmd_transform/output/images/IMG_3854/image74.jpg file\n"
     ]
    },
    {
     "name": "stdout",
     "output_type": "stream",
     "text": [
      "Writing image /hmd_transform/output/images/IMG_3854/image75.jpg file\n",
      "Writing image /hmd_transform/output/images/IMG_3854/image76.jpg file\n",
      "Writing image /hmd_transform/output/images/IMG_3854/image77.jpg file\n",
      "Writing image /hmd_transform/output/images/IMG_3854/image78.jpg file\n"
     ]
    },
    {
     "name": "stdout",
     "output_type": "stream",
     "text": [
      "Writing image /hmd_transform/output/images/IMG_3854/image79.jpg file\n",
      "Writing image /hmd_transform/output/images/IMG_3854/image80.jpg file\n",
      "Writing image /hmd_transform/output/images/IMG_3854/image81.jpg file\n",
      "Writing image /hmd_transform/output/images/IMG_3854/image82.jpg file\n"
     ]
    },
    {
     "name": "stdout",
     "output_type": "stream",
     "text": [
      "Writing image /hmd_transform/output/images/IMG_3854/image83.jpg file\n",
      "Writing image /hmd_transform/output/images/IMG_3854/image84.jpg file\n",
      "Writing image /hmd_transform/output/images/IMG_3854/image85.jpg file\n"
     ]
    },
    {
     "name": "stdout",
     "output_type": "stream",
     "text": [
      "Writing image /hmd_transform/output/images/IMG_3854/image86.jpg file\n",
      "Writing image /hmd_transform/output/images/IMG_3854/image87.jpg file\n",
      "Writing image /hmd_transform/output/images/IMG_3854/image88.jpg file\n"
     ]
    },
    {
     "name": "stdout",
     "output_type": "stream",
     "text": [
      "Writing image /hmd_transform/output/images/IMG_3854/image89.jpg file\n",
      "Writing image /hmd_transform/output/images/IMG_3854/image90.jpg file\n",
      "Writing image /hmd_transform/output/images/IMG_3854/image91.jpg file\n"
     ]
    },
    {
     "name": "stdout",
     "output_type": "stream",
     "text": [
      "Writing image /hmd_transform/output/images/IMG_3854/image92.jpg file\n",
      "Writing image /hmd_transform/output/images/IMG_3854/image93.jpg file\n",
      "Writing image /hmd_transform/output/images/IMG_3854/image94.jpg file\n"
     ]
    },
    {
     "name": "stdout",
     "output_type": "stream",
     "text": [
      "Writing image /hmd_transform/output/images/IMG_3854/image95.jpg file\n",
      "Writing image /hmd_transform/output/images/IMG_3854/image96.jpg file\n",
      "Writing image /hmd_transform/output/images/IMG_3854/image97.jpg file\n"
     ]
    },
    {
     "name": "stdout",
     "output_type": "stream",
     "text": [
      "Writing image /hmd_transform/output/images/IMG_3854/image98.jpg file\n",
      "Writing image /hmd_transform/output/images/IMG_3854/image99.jpg file\n",
      "Writing image /hmd_transform/output/images/IMG_3854/image100.jpg file\n"
     ]
    },
    {
     "name": "stdout",
     "output_type": "stream",
     "text": [
      "Writing image /hmd_transform/output/images/IMG_3854/image101.jpg file\n",
      "Writing image /hmd_transform/output/images/IMG_3854/image102.jpg file\n",
      "Writing image /hmd_transform/output/images/IMG_3854/image103.jpg file\n"
     ]
    },
    {
     "name": "stdout",
     "output_type": "stream",
     "text": [
      "Writing image /hmd_transform/output/images/IMG_3854/image104.jpg file\n",
      "Writing image /hmd_transform/output/images/IMG_3854/image105.jpg file\n",
      "Writing image /hmd_transform/output/images/IMG_3854/image106.jpg file\n"
     ]
    },
    {
     "name": "stdout",
     "output_type": "stream",
     "text": [
      "Writing image /hmd_transform/output/images/IMG_3854/image107.jpg file\n",
      "Writing image /hmd_transform/output/images/IMG_3854/image108.jpg file\n",
      "Writing image /hmd_transform/output/images/IMG_3854/image109.jpg file\n"
     ]
    },
    {
     "name": "stdout",
     "output_type": "stream",
     "text": [
      "Writing image /hmd_transform/output/images/IMG_3854/image110.jpg file\n",
      "Writing image /hmd_transform/output/images/IMG_3854/image111.jpg file\n",
      "Writing image /hmd_transform/output/images/IMG_3854/image112.jpg file\n"
     ]
    },
    {
     "name": "stdout",
     "output_type": "stream",
     "text": [
      "Writing image /hmd_transform/output/images/IMG_3854/image113.jpg file\n",
      "Writing image /hmd_transform/output/images/IMG_3854/image114.jpg file\n",
      "Writing image /hmd_transform/output/images/IMG_3854/image115.jpg file\n"
     ]
    },
    {
     "name": "stdout",
     "output_type": "stream",
     "text": [
      "Writing image /hmd_transform/output/images/IMG_3854/image116.jpg file\n",
      "Writing image /hmd_transform/output/images/IMG_3854/image117.jpg file\n",
      "Writing image /hmd_transform/output/images/IMG_3854/image118.jpg file\n"
     ]
    },
    {
     "name": "stdout",
     "output_type": "stream",
     "text": [
      "Writing image /hmd_transform/output/images/IMG_3854/image119.jpg file\n",
      "Writing image /hmd_transform/output/images/IMG_3854/image120.jpg file\n",
      "Writing image /hmd_transform/output/images/IMG_3854/image121.jpg file\n",
      "Writing image /hmd_transform/output/images/IMG_3854/image122.jpg file\n"
     ]
    },
    {
     "name": "stdout",
     "output_type": "stream",
     "text": [
      "Writing image /hmd_transform/output/images/IMG_3854/image123.jpg file\n",
      "Writing image /hmd_transform/output/images/IMG_3854/image124.jpg file\n",
      "Writing image /hmd_transform/output/images/IMG_3854/image125.jpg file\n"
     ]
    },
    {
     "name": "stdout",
     "output_type": "stream",
     "text": [
      "Writing image /hmd_transform/output/images/IMG_3854/image126.jpg file\n",
      "Writing image /hmd_transform/output/images/IMG_3854/image127.jpg file\n",
      "Writing image /hmd_transform/output/images/IMG_3854/image128.jpg file\n"
     ]
    },
    {
     "name": "stdout",
     "output_type": "stream",
     "text": [
      "Writing image /hmd_transform/output/images/IMG_3854/image129.jpg file\n",
      "Writing image /hmd_transform/output/images/IMG_3854/image130.jpg file\n",
      "Writing image /hmd_transform/output/images/IMG_3854/image131.jpg file\n"
     ]
    },
    {
     "name": "stdout",
     "output_type": "stream",
     "text": [
      "Writing image /hmd_transform/output/images/IMG_3854/image132.jpg file\n",
      "Writing image /hmd_transform/output/images/IMG_3854/image133.jpg file\n",
      "Writing image /hmd_transform/output/images/IMG_3854/image134.jpg file\n"
     ]
    },
    {
     "name": "stdout",
     "output_type": "stream",
     "text": [
      "Writing image /hmd_transform/output/images/IMG_3854/image135.jpg file\n",
      "Writing image /hmd_transform/output/images/IMG_3854/image136.jpg file\n",
      "Writing image /hmd_transform/output/images/IMG_3854/image137.jpg file\n"
     ]
    },
    {
     "name": "stdout",
     "output_type": "stream",
     "text": [
      "Writing image /hmd_transform/output/images/IMG_3854/image138.jpg file\n",
      "Writing image /hmd_transform/output/images/IMG_3854/image139.jpg file\n",
      "Writing image /hmd_transform/output/images/IMG_3854/image140.jpg file\n"
     ]
    },
    {
     "name": "stdout",
     "output_type": "stream",
     "text": [
      "Writing image /hmd_transform/output/images/IMG_3854/image141.jpg file\n",
      "Writing image /hmd_transform/output/images/IMG_3854/image142.jpg file\n",
      "Writing image /hmd_transform/output/images/IMG_3854/image143.jpg file\n"
     ]
    },
    {
     "name": "stdout",
     "output_type": "stream",
     "text": [
      "Writing image /hmd_transform/output/images/IMG_3854/image144.jpg file\n",
      "Writing image /hmd_transform/output/images/IMG_3854/image145.jpg file\n",
      "Writing image /hmd_transform/output/images/IMG_3854/image146.jpg file\n"
     ]
    },
    {
     "name": "stdout",
     "output_type": "stream",
     "text": [
      "Writing image /hmd_transform/output/images/IMG_3854/image147.jpg file\n",
      "Writing image /hmd_transform/output/images/IMG_3854/image148.jpg file\n",
      "Writing image /hmd_transform/output/images/IMG_3854/image149.jpg file\n"
     ]
    },
    {
     "name": "stdout",
     "output_type": "stream",
     "text": [
      "Writing image /hmd_transform/output/images/IMG_3854/image150.jpg file\n",
      "Writing image /hmd_transform/output/images/IMG_3854/image151.jpg file\n",
      "Writing image /hmd_transform/output/images/IMG_3854/image152.jpg file\n"
     ]
    },
    {
     "name": "stdout",
     "output_type": "stream",
     "text": [
      "Writing image /hmd_transform/output/images/IMG_3854/image153.jpg file\n",
      "Writing image /hmd_transform/output/images/IMG_3854/image154.jpg file\n",
      "Writing image /hmd_transform/output/images/IMG_3854/image155.jpg file\n"
     ]
    },
    {
     "name": "stdout",
     "output_type": "stream",
     "text": [
      "Writing image /hmd_transform/output/images/IMG_3854/image156.jpg file\n",
      "Writing image /hmd_transform/output/images/IMG_3854/image157.jpg file\n",
      "Writing image /hmd_transform/output/images/IMG_3854/image158.jpg file\n"
     ]
    },
    {
     "name": "stdout",
     "output_type": "stream",
     "text": [
      "Writing image /hmd_transform/output/images/IMG_3854/image159.jpg file\n",
      "Writing image /hmd_transform/output/images/IMG_3854/image160.jpg file\n",
      "Writing image /hmd_transform/output/images/IMG_3854/image161.jpg file\n",
      "Writing image /hmd_transform/output/images/IMG_3854/image162.jpg file\n"
     ]
    },
    {
     "name": "stdout",
     "output_type": "stream",
     "text": [
      "Writing image /hmd_transform/output/images/IMG_3854/image163.jpg file\n",
      "Writing image /hmd_transform/output/images/IMG_3854/image164.jpg file\n",
      "Writing image /hmd_transform/output/images/IMG_3854/image165.jpg file\n",
      "Writing image /hmd_transform/output/images/IMG_3854/image166.jpg file\n"
     ]
    },
    {
     "name": "stdout",
     "output_type": "stream",
     "text": [
      "Writing image /hmd_transform/output/images/IMG_3854/image167.jpg file\n",
      "Writing image /hmd_transform/output/images/IMG_3854/image168.jpg file\n",
      "Writing image /hmd_transform/output/images/IMG_3854/image169.jpg file\n"
     ]
    },
    {
     "name": "stdout",
     "output_type": "stream",
     "text": [
      "Writing image /hmd_transform/output/images/IMG_3854/image170.jpg file\n",
      "Writing image /hmd_transform/output/images/IMG_3854/image171.jpg file\n",
      "Writing image /hmd_transform/output/images/IMG_3854/image172.jpg file\n",
      "Writing image /hmd_transform/output/images/IMG_3854/image173.jpg file\n"
     ]
    },
    {
     "name": "stdout",
     "output_type": "stream",
     "text": [
      "Writing image /hmd_transform/output/images/IMG_3854/image174.jpg file\n",
      "Writing image /hmd_transform/output/images/IMG_3854/image175.jpg file\n",
      "Writing image /hmd_transform/output/images/IMG_3854/image176.jpg file\n",
      "Writing image /hmd_transform/output/images/IMG_3854/image177.jpg file\n"
     ]
    },
    {
     "name": "stdout",
     "output_type": "stream",
     "text": [
      "Writing image /hmd_transform/output/images/IMG_3854/image178.jpg file\n",
      "Writing image /hmd_transform/output/images/IMG_3854/image179.jpg file\n",
      "Writing image /hmd_transform/output/images/IMG_3854/image180.jpg file\n",
      "Writing image /hmd_transform/output/images/IMG_3854/image181.jpg file\n"
     ]
    },
    {
     "name": "stdout",
     "output_type": "stream",
     "text": [
      "Writing image /hmd_transform/output/images/IMG_3854/image182.jpg file\n",
      "Writing image /hmd_transform/output/images/IMG_3854/image183.jpg file\n",
      "Writing image /hmd_transform/output/images/IMG_3854/image184.jpg file\n",
      "Writing image /hmd_transform/output/images/IMG_3854/image185.jpg file\n"
     ]
    },
    {
     "name": "stdout",
     "output_type": "stream",
     "text": [
      "Writing image /hmd_transform/output/images/IMG_3854/image186.jpg file\n",
      "Writing image /hmd_transform/output/images/IMG_3854/image187.jpg file\n",
      "Writing image /hmd_transform/output/images/IMG_3854/image188.jpg file\n",
      "Writing image /hmd_transform/output/images/IMG_3854/image189.jpg file\n"
     ]
    },
    {
     "name": "stdout",
     "output_type": "stream",
     "text": [
      "Writing image /hmd_transform/output/images/IMG_3854/image190.jpg file\n",
      "Writing image /hmd_transform/output/images/IMG_3854/image191.jpg file\n",
      "Writing image /hmd_transform/output/images/IMG_3854/image192.jpg file\n",
      "Writing image /hmd_transform/output/images/IMG_3854/image193.jpg file\n"
     ]
    },
    {
     "name": "stdout",
     "output_type": "stream",
     "text": [
      "Writing image /hmd_transform/output/images/IMG_3854/image194.jpg file\n",
      "Writing image /hmd_transform/output/images/IMG_3854/image195.jpg file\n",
      "Writing image /hmd_transform/output/images/IMG_3854/image196.jpg file\n",
      "Writing image /hmd_transform/output/images/IMG_3854/image197.jpg file\n"
     ]
    },
    {
     "name": "stdout",
     "output_type": "stream",
     "text": [
      "Writing image /hmd_transform/output/images/IMG_3854/image198.jpg file\n",
      "Writing image /hmd_transform/output/images/IMG_3854/image199.jpg file\n",
      "Writing image /hmd_transform/output/images/IMG_3854/image200.jpg file\n"
     ]
    },
    {
     "name": "stdout",
     "output_type": "stream",
     "text": [
      "Writing image /hmd_transform/output/images/IMG_3854/image201.jpg file\n",
      "Writing image /hmd_transform/output/images/IMG_3854/image202.jpg file\n",
      "Writing image /hmd_transform/output/images/IMG_3854/image203.jpg file\n"
     ]
    },
    {
     "name": "stdout",
     "output_type": "stream",
     "text": [
      "Writing image /hmd_transform/output/images/IMG_3854/image204.jpg file\n",
      "Writing image /hmd_transform/output/images/IMG_3854/image205.jpg file\n",
      "Writing image /hmd_transform/output/images/IMG_3854/image206.jpg file\n"
     ]
    },
    {
     "name": "stdout",
     "output_type": "stream",
     "text": [
      "Writing image /hmd_transform/output/images/IMG_3854/image207.jpg file\n",
      "Writing image /hmd_transform/output/images/IMG_3854/image208.jpg file\n",
      "Writing image /hmd_transform/output/images/IMG_3854/image209.jpg file\n",
      "Writing image /hmd_transform/output/images/IMG_3854/image210.jpg file\n"
     ]
    },
    {
     "name": "stdout",
     "output_type": "stream",
     "text": [
      "Writing image /hmd_transform/output/images/IMG_3854/image211.jpg file\n",
      "Writing image /hmd_transform/output/images/IMG_3854/image212.jpg file\n",
      "Writing image /hmd_transform/output/images/IMG_3854/image213.jpg file\n",
      "Writing image /hmd_transform/output/images/IMG_3854/image214.jpg file\n"
     ]
    },
    {
     "name": "stdout",
     "output_type": "stream",
     "text": [
      "Writing image /hmd_transform/output/images/IMG_3854/image215.jpg file\n",
      "Writing image /hmd_transform/output/images/IMG_3854/image216.jpg file\n",
      "Writing image /hmd_transform/output/images/IMG_3854/image217.jpg file\n",
      "Writing image /hmd_transform/output/images/IMG_3854/image218.jpg file\n"
     ]
    },
    {
     "name": "stdout",
     "output_type": "stream",
     "text": [
      "Writing image /hmd_transform/output/images/IMG_3854/image219.jpg file\n",
      "Writing image /hmd_transform/output/images/IMG_3854/image220.jpg file\n",
      "Writing image /hmd_transform/output/images/IMG_3854/image221.jpg file\n",
      "Writing image /hmd_transform/output/images/IMG_3854/image222.jpg file\n"
     ]
    },
    {
     "name": "stdout",
     "output_type": "stream",
     "text": [
      "Writing image /hmd_transform/output/images/IMG_3854/image223.jpg file\n",
      "Writing image /hmd_transform/output/images/IMG_3854/image224.jpg file\n",
      "Writing image /hmd_transform/output/images/IMG_3854/image225.jpg file\n"
     ]
    },
    {
     "name": "stdout",
     "output_type": "stream",
     "text": [
      "Writing image /hmd_transform/output/images/IMG_3854/image226.jpg file\n",
      "Writing image /hmd_transform/output/images/IMG_3854/image227.jpg file\n",
      "Writing image /hmd_transform/output/images/IMG_3854/image228.jpg file\n",
      "Writing image /hmd_transform/output/images/IMG_3854/image229.jpg file\n"
     ]
    },
    {
     "name": "stdout",
     "output_type": "stream",
     "text": [
      "Writing image /hmd_transform/output/images/IMG_3854/image230.jpg file\n",
      "Writing image /hmd_transform/output/images/IMG_3854/image231.jpg file\n",
      "Writing image /hmd_transform/output/images/IMG_3854/image232.jpg file\n"
     ]
    },
    {
     "name": "stdout",
     "output_type": "stream",
     "text": [
      "Writing image /hmd_transform/output/images/IMG_3854/image233.jpg file\n",
      "Writing image /hmd_transform/output/images/IMG_3854/image234.jpg file\n",
      "Writing image /hmd_transform/output/images/IMG_3854/image235.jpg file\n"
     ]
    },
    {
     "name": "stdout",
     "output_type": "stream",
     "text": [
      "Writing image /hmd_transform/output/images/IMG_3854/image236.jpg file\n",
      "Writing image /hmd_transform/output/images/IMG_3854/image237.jpg file\n",
      "Writing image /hmd_transform/output/images/IMG_3854/image238.jpg file\n"
     ]
    },
    {
     "name": "stdout",
     "output_type": "stream",
     "text": [
      "Writing image /hmd_transform/output/images/IMG_3854/image239.jpg file\n",
      "Writing image /hmd_transform/output/images/IMG_3854/image240.jpg file\n",
      "Writing image /hmd_transform/output/images/IMG_3854/image241.jpg file\n",
      "Writing image /hmd_transform/output/images/IMG_3854/image242.jpg file\n"
     ]
    },
    {
     "name": "stdout",
     "output_type": "stream",
     "text": [
      "Writing image /hmd_transform/output/images/IMG_3854/image243.jpg file\n",
      "Writing image /hmd_transform/output/images/IMG_3854/image244.jpg file\n",
      "Writing image /hmd_transform/output/images/IMG_3854/image245.jpg file\n"
     ]
    },
    {
     "name": "stdout",
     "output_type": "stream",
     "text": [
      "Writing image /hmd_transform/output/images/IMG_3854/image246.jpg file\n",
      "Writing image /hmd_transform/output/images/IMG_3854/image247.jpg file\n",
      "Writing image /hmd_transform/output/images/IMG_3854/image248.jpg file\n"
     ]
    },
    {
     "name": "stdout",
     "output_type": "stream",
     "text": [
      "Writing image /hmd_transform/output/images/IMG_3854/image249.jpg file\n",
      "Writing image /hmd_transform/output/images/IMG_3854/image250.jpg file\n",
      "Writing image /hmd_transform/output/images/IMG_3854/image251.jpg file\n",
      "Writing image /hmd_transform/output/images/IMG_3854/image252.jpg file\n"
     ]
    },
    {
     "name": "stdout",
     "output_type": "stream",
     "text": [
      "Writing image /hmd_transform/output/images/IMG_3854/image253.jpg file\n",
      "Writing image /hmd_transform/output/images/IMG_3854/image254.jpg file\n",
      "Writing image /hmd_transform/output/images/IMG_3854/image255.jpg file\n",
      "Writing image /hmd_transform/output/images/IMG_3854/image256.jpg file\n"
     ]
    },
    {
     "name": "stdout",
     "output_type": "stream",
     "text": [
      "Writing image /hmd_transform/output/images/IMG_3854/image257.jpg file\n",
      "Writing image /hmd_transform/output/images/IMG_3854/image258.jpg file\n",
      "Writing image /hmd_transform/output/images/IMG_3854/image259.jpg file\n"
     ]
    },
    {
     "name": "stdout",
     "output_type": "stream",
     "text": [
      "Writing image /hmd_transform/output/images/IMG_3854/image260.jpg file\n",
      "Writing image /hmd_transform/output/images/IMG_3854/image261.jpg file\n",
      "Writing image /hmd_transform/output/images/IMG_3854/image262.jpg file\n"
     ]
    },
    {
     "name": "stdout",
     "output_type": "stream",
     "text": [
      "Writing image /hmd_transform/output/images/IMG_3854/image263.jpg file\n",
      "Writing image /hmd_transform/output/images/IMG_3854/image264.jpg file\n",
      "Writing image /hmd_transform/output/images/IMG_3854/image265.jpg file\n"
     ]
    },
    {
     "name": "stdout",
     "output_type": "stream",
     "text": [
      "Writing image /hmd_transform/output/images/IMG_3854/image266.jpg file\n",
      "Writing image /hmd_transform/output/images/IMG_3854/image267.jpg file\n",
      "Writing image /hmd_transform/output/images/IMG_3854/image268.jpg file\n"
     ]
    },
    {
     "name": "stdout",
     "output_type": "stream",
     "text": [
      "Writing image /hmd_transform/output/images/IMG_3854/image269.jpg file\n",
      "Writing image /hmd_transform/output/images/IMG_3854/image270.jpg file\n",
      "Writing image /hmd_transform/output/images/IMG_3854/image271.jpg file\n",
      "Writing image /hmd_transform/output/images/IMG_3854/image272.jpg file\n"
     ]
    },
    {
     "name": "stdout",
     "output_type": "stream",
     "text": [
      "Writing image /hmd_transform/output/images/IMG_3854/image273.jpg file\n",
      "Writing image /hmd_transform/output/images/IMG_3854/image274.jpg file\n",
      "Writing image /hmd_transform/output/images/IMG_3854/image275.jpg file\n",
      "Writing image /hmd_transform/output/images/IMG_3854/image276.jpg file\n"
     ]
    },
    {
     "name": "stdout",
     "output_type": "stream",
     "text": [
      "Writing image /hmd_transform/output/images/IMG_3854/image277.jpg file\n",
      "Writing image /hmd_transform/output/images/IMG_3854/image278.jpg file\n",
      "Writing image /hmd_transform/output/images/IMG_3854/image279.jpg file\n"
     ]
    },
    {
     "name": "stdout",
     "output_type": "stream",
     "text": [
      "Writing image /hmd_transform/output/images/IMG_3854/image280.jpg file\n",
      "Writing image /hmd_transform/output/images/IMG_3854/image281.jpg file\n",
      "Writing image /hmd_transform/output/images/IMG_3854/image282.jpg file\n"
     ]
    },
    {
     "name": "stdout",
     "output_type": "stream",
     "text": [
      "Writing image /hmd_transform/output/images/IMG_3854/image283.jpg file\n",
      "Writing image /hmd_transform/output/images/IMG_3854/image284.jpg file\n",
      "Writing image /hmd_transform/output/images/IMG_3854/image285.jpg file\n"
     ]
    },
    {
     "name": "stdout",
     "output_type": "stream",
     "text": [
      "Writing image /hmd_transform/output/images/IMG_3854/image286.jpg file\n",
      "Writing image /hmd_transform/output/images/IMG_3854/image287.jpg file\n",
      "Writing image /hmd_transform/output/images/IMG_3854/image288.jpg file\n",
      "Writing image /hmd_transform/output/images/IMG_3854/image289.jpg file\n"
     ]
    },
    {
     "name": "stdout",
     "output_type": "stream",
     "text": [
      "Writing image /hmd_transform/output/images/IMG_3854/image290.jpg file\n",
      "Writing image /hmd_transform/output/images/IMG_3854/image291.jpg file\n",
      "Writing image /hmd_transform/output/images/IMG_3854/image292.jpg file\n",
      "Writing image /hmd_transform/output/images/IMG_3854/image293.jpg file\n"
     ]
    },
    {
     "name": "stdout",
     "output_type": "stream",
     "text": [
      "Writing image /hmd_transform/output/images/IMG_3854/image294.jpg file\n",
      "Writing image /hmd_transform/output/images/IMG_3854/image295.jpg file\n",
      "Writing image /hmd_transform/output/images/IMG_3854/image296.jpg file\n",
      "Writing image /hmd_transform/output/images/IMG_3854/image297.jpg file\n"
     ]
    },
    {
     "name": "stdout",
     "output_type": "stream",
     "text": [
      "Writing image /hmd_transform/output/images/IMG_3854/image298.jpg file\n",
      "Writing image /hmd_transform/output/images/IMG_3854/image299.jpg file\n",
      "Writing image /hmd_transform/output/images/IMG_3854/image300.jpg file\n"
     ]
    },
    {
     "name": "stdout",
     "output_type": "stream",
     "text": [
      "Writing image /hmd_transform/output/images/IMG_3854/image301.jpg file\n",
      "Writing image /hmd_transform/output/images/IMG_3854/image302.jpg file\n",
      "Writing image /hmd_transform/output/images/IMG_3854/image303.jpg file\n",
      "Writing image /hmd_transform/output/images/IMG_3854/image304.jpg file\n"
     ]
    },
    {
     "name": "stdout",
     "output_type": "stream",
     "text": [
      "Writing image /hmd_transform/output/images/IMG_3854/image305.jpg file\n",
      "Writing image /hmd_transform/output/images/IMG_3854/image306.jpg file\n",
      "Writing image /hmd_transform/output/images/IMG_3854/image307.jpg file\n",
      "Writing image /hmd_transform/output/images/IMG_3854/image308.jpg file\n"
     ]
    },
    {
     "name": "stdout",
     "output_type": "stream",
     "text": [
      "Writing image /hmd_transform/output/images/IMG_3854/image309.jpg file\n",
      "Writing image /hmd_transform/output/images/IMG_3854/image310.jpg file\n",
      "Writing image /hmd_transform/output/images/IMG_3854/image311.jpg file\n"
     ]
    },
    {
     "name": "stdout",
     "output_type": "stream",
     "text": [
      "Writing image /hmd_transform/output/images/IMG_3854/image312.jpg file\n",
      "Writing image /hmd_transform/output/images/IMG_3854/image313.jpg file\n",
      "Writing image /hmd_transform/output/images/IMG_3854/image314.jpg file\n"
     ]
    },
    {
     "name": "stdout",
     "output_type": "stream",
     "text": [
      "Writing image /hmd_transform/output/images/IMG_3854/image315.jpg file\n",
      "Writing image /hmd_transform/output/images/IMG_3854/image316.jpg file\n",
      "Writing image /hmd_transform/output/images/IMG_3854/image317.jpg file\n"
     ]
    },
    {
     "name": "stdout",
     "output_type": "stream",
     "text": [
      "Writing image /hmd_transform/output/images/IMG_3854/image318.jpg file\n",
      "Writing image /hmd_transform/output/images/IMG_3854/image319.jpg file\n",
      "Writing image /hmd_transform/output/images/IMG_3854/image320.jpg file\n",
      "Writing image /hmd_transform/output/images/IMG_3854/image321.jpg file\n"
     ]
    },
    {
     "name": "stdout",
     "output_type": "stream",
     "text": [
      "Writing image /hmd_transform/output/images/IMG_3854/image322.jpg file\n",
      "Writing image /hmd_transform/output/images/IMG_3854/image323.jpg file\n",
      "Writing image /hmd_transform/output/images/IMG_3854/image324.jpg file\n"
     ]
    },
    {
     "name": "stdout",
     "output_type": "stream",
     "text": [
      "Writing image /hmd_transform/output/images/IMG_3854/image325.jpg file\n",
      "Writing image /hmd_transform/output/images/IMG_3854/image326.jpg file\n",
      "Writing image /hmd_transform/output/images/IMG_3854/image327.jpg file\n"
     ]
    },
    {
     "name": "stdout",
     "output_type": "stream",
     "text": [
      "Writing image /hmd_transform/output/images/IMG_3854/image328.jpg file\n",
      "Writing image /hmd_transform/output/images/IMG_3854/image329.jpg file\n",
      "Writing image /hmd_transform/output/images/IMG_3854/image330.jpg file\n"
     ]
    },
    {
     "name": "stdout",
     "output_type": "stream",
     "text": [
      "Writing image /hmd_transform/output/images/IMG_3854/image331.jpg file\n",
      "Writing image /hmd_transform/output/images/IMG_3854/image332.jpg file\n",
      "Writing image /hmd_transform/output/images/IMG_3854/image333.jpg file\n"
     ]
    },
    {
     "name": "stdout",
     "output_type": "stream",
     "text": [
      "Writing image /hmd_transform/output/images/IMG_3854/image334.jpg file\n",
      "Writing image /hmd_transform/output/images/IMG_3854/image335.jpg file\n",
      "Writing image /hmd_transform/output/images/IMG_3854/image336.jpg file\n",
      "Writing image /hmd_transform/output/images/IMG_3854/image337.jpg file\n"
     ]
    },
    {
     "name": "stdout",
     "output_type": "stream",
     "text": [
      "Writing image /hmd_transform/output/images/IMG_3854/image338.jpg file\n",
      "Writing image /hmd_transform/output/images/IMG_3854/image339.jpg file\n",
      "Writing image /hmd_transform/output/images/IMG_3854/image340.jpg file\n",
      "Writing image /hmd_transform/output/images/IMG_3854/image341.jpg file\n"
     ]
    },
    {
     "name": "stdout",
     "output_type": "stream",
     "text": [
      "Writing image /hmd_transform/output/images/IMG_3854/image342.jpg file\n",
      "Writing image /hmd_transform/output/images/IMG_3854/image343.jpg file\n",
      "Writing image /hmd_transform/output/images/IMG_3854/image344.jpg file\n",
      "Writing image /hmd_transform/output/images/IMG_3854/image345.jpg file\n"
     ]
    },
    {
     "name": "stdout",
     "output_type": "stream",
     "text": [
      "Writing image /hmd_transform/output/images/IMG_3854/image346.jpg file\n",
      "Writing image /hmd_transform/output/images/IMG_3854/image347.jpg file\n",
      "Writing image /hmd_transform/output/images/IMG_3854/image348.jpg file\n",
      "Writing image /hmd_transform/output/images/IMG_3854/image349.jpg file\n"
     ]
    },
    {
     "name": "stdout",
     "output_type": "stream",
     "text": [
      "Writing image /hmd_transform/output/images/IMG_3854/image350.jpg file\n",
      "Writing image /hmd_transform/output/images/IMG_3854/image351.jpg file\n",
      "Writing image /hmd_transform/output/images/IMG_3854/image352.jpg file\n",
      "Writing image /hmd_transform/output/images/IMG_3854/image353.jpg file\n"
     ]
    },
    {
     "name": "stdout",
     "output_type": "stream",
     "text": [
      "Writing image /hmd_transform/output/images/IMG_3854/image354.jpg file\n",
      "Writing image /hmd_transform/output/images/IMG_3854/image355.jpg file\n",
      "Writing image /hmd_transform/output/images/IMG_3854/image356.jpg file\n",
      "Writing image /hmd_transform/output/images/IMG_3854/image357.jpg file\n"
     ]
    },
    {
     "name": "stdout",
     "output_type": "stream",
     "text": [
      "Writing image /hmd_transform/output/images/IMG_3854/image358.jpg file\n",
      "Writing image /hmd_transform/output/images/IMG_3854/image359.jpg file\n",
      "Writing image /hmd_transform/output/images/IMG_3854/image360.jpg file\n",
      "Writing image /hmd_transform/output/images/IMG_3854/image361.jpg file\n"
     ]
    },
    {
     "name": "stdout",
     "output_type": "stream",
     "text": [
      "Writing image /hmd_transform/output/images/IMG_3854/image362.jpg file\n",
      "Writing image /hmd_transform/output/images/IMG_3854/image363.jpg file\n",
      "Writing image /hmd_transform/output/images/IMG_3854/image364.jpg file\n",
      "Writing image /hmd_transform/output/images/IMG_3854/image365.jpg file\n"
     ]
    },
    {
     "name": "stdout",
     "output_type": "stream",
     "text": [
      "Writing image /hmd_transform/output/images/IMG_3854/image366.jpg file\n",
      "Writing image /hmd_transform/output/images/IMG_3854/image367.jpg file\n",
      "Writing image /hmd_transform/output/images/IMG_3854/image368.jpg file\n",
      "Writing image /hmd_transform/output/images/IMG_3854/image369.jpg file\n"
     ]
    },
    {
     "name": "stdout",
     "output_type": "stream",
     "text": [
      "Writing image /hmd_transform/output/images/IMG_3854/image370.jpg file\n",
      "Writing image /hmd_transform/output/images/IMG_3854/image371.jpg file\n",
      "Writing image /hmd_transform/output/images/IMG_3854/image372.jpg file\n",
      "Writing image /hmd_transform/output/images/IMG_3854/image373.jpg file\n"
     ]
    },
    {
     "name": "stdout",
     "output_type": "stream",
     "text": [
      "Writing image /hmd_transform/output/images/IMG_3854/image374.jpg file\n",
      "Writing image /hmd_transform/output/images/IMG_3854/image375.jpg file\n",
      "Writing image /hmd_transform/output/images/IMG_3854/image376.jpg file\n",
      "Writing image /hmd_transform/output/images/IMG_3854/image377.jpg file\n"
     ]
    },
    {
     "name": "stdout",
     "output_type": "stream",
     "text": [
      "Writing image /hmd_transform/output/images/IMG_3854/image378.jpg file\n",
      "Writing image /hmd_transform/output/images/IMG_3854/image379.jpg file\n",
      "Writing image /hmd_transform/output/images/IMG_3854/image380.jpg file\n"
     ]
    },
    {
     "name": "stdout",
     "output_type": "stream",
     "text": [
      "Writing image /hmd_transform/output/images/IMG_3854/image381.jpg file\n",
      "Writing image /hmd_transform/output/images/IMG_3854/image382.jpg file\n",
      "Writing image /hmd_transform/output/images/IMG_3854/image383.jpg file\n"
     ]
    },
    {
     "name": "stdout",
     "output_type": "stream",
     "text": [
      "Writing image /hmd_transform/output/images/IMG_3854/image384.jpg file\n",
      "Writing image /hmd_transform/output/images/IMG_3854/image385.jpg file\n",
      "Writing image /hmd_transform/output/images/IMG_3854/image386.jpg file\n"
     ]
    },
    {
     "name": "stdout",
     "output_type": "stream",
     "text": [
      "Writing image /hmd_transform/output/images/IMG_3854/image387.jpg file\n",
      "Writing image /hmd_transform/output/images/IMG_3854/image388.jpg file\n",
      "Writing image /hmd_transform/output/images/IMG_3854/image389.jpg file\n"
     ]
    },
    {
     "name": "stdout",
     "output_type": "stream",
     "text": [
      "Writing image /hmd_transform/output/images/IMG_3854/image390.jpg file\n",
      "Writing image /hmd_transform/output/images/IMG_3854/image391.jpg file\n",
      "Writing image /hmd_transform/output/images/IMG_3854/image392.jpg file\n"
     ]
    },
    {
     "name": "stdout",
     "output_type": "stream",
     "text": [
      "Writing image /hmd_transform/output/images/IMG_3854/image393.jpg file\n",
      "Writing image /hmd_transform/output/images/IMG_3854/image394.jpg file\n"
     ]
    },
    {
     "name": "stdout",
     "output_type": "stream",
     "text": [
      "Writing image /hmd_transform/output/images/IMG_3854/image395.jpg file\n",
      "Writing image /hmd_transform/output/images/IMG_3854/image396.jpg file\n"
     ]
    },
    {
     "name": "stdout",
     "output_type": "stream",
     "text": [
      "Writing image /hmd_transform/output/images/IMG_3854/image397.jpg file\n",
      "Writing image /hmd_transform/output/images/IMG_3854/image398.jpg file\n"
     ]
    },
    {
     "name": "stdout",
     "output_type": "stream",
     "text": [
      "Writing image /hmd_transform/output/images/IMG_3854/image399.jpg file\n",
      "Writing image /hmd_transform/output/images/IMG_3854/image400.jpg file\n"
     ]
    },
    {
     "name": "stdout",
     "output_type": "stream",
     "text": [
      "Writing image /hmd_transform/output/images/IMG_3854/image401.jpg file\n",
      "Writing image /hmd_transform/output/images/IMG_3854/image402.jpg file\n"
     ]
    },
    {
     "name": "stdout",
     "output_type": "stream",
     "text": [
      "Writing image /hmd_transform/output/images/IMG_3854/image403.jpg file\n"
     ]
    }
   ],
   "source": [
    "for vid in os.listdir(input_path):\n",
    "    if vid == '.gitkeep':\n",
    "        continue\n",
    "        \n",
    "    vidcap = cv2.VideoCapture(str(input_path / vid))\n",
    "    sec = 0\n",
    "    count = 1\n",
    "    output = output_path / os.path.splitext(vid)[0]\n",
    "    os.makedirs(output, exist_ok=True)\n",
    "    success = get_frame(vidcap, sec, count, output)\n",
    "    while success:\n",
    "        count = count + 1\n",
    "        sec = sec + frame_rate\n",
    "        sec = round(sec, 2)\n",
    "        success = get_frame(vidcap, sec, count, output)"
   ]
  },
  {
   "cell_type": "code",
   "execution_count": null,
   "id": "ad49be19",
   "metadata": {
    "papermill": {
     "duration": 0.026749,
     "end_time": "2024-02-09T16:21:10.145156",
     "exception": false,
     "start_time": "2024-02-09T16:21:10.118407",
     "status": "completed"
    },
    "tags": []
   },
   "outputs": [],
   "source": []
  }
 ],
 "metadata": {
  "kernelspec": {
   "display_name": "Python 3 (ipykernel)",
   "language": "python",
   "name": "python3"
  },
  "language_info": {
   "codemirror_mode": {
    "name": "ipython",
    "version": 3
   },
   "file_extension": ".py",
   "mimetype": "text/x-python",
   "name": "python",
   "nbconvert_exporter": "python",
   "pygments_lexer": "ipython3",
   "version": "3.10.9"
  },
  "papermill": {
   "default_parameters": {},
   "duration": 39.488575,
   "end_time": "2024-02-09T16:21:10.597570",
   "environment_variables": {},
   "exception": null,
   "input_path": "/app/notebooks/frame_extraction.ipynb",
   "output_path": "/hmd_transform/output/frame_extraction.ipynb",
   "parameters": {
    "transform_input_path": "/hmd_transform/input",
    "transform_output_path": "/hmd_transform/output"
   },
   "start_time": "2024-02-09T16:20:31.108995",
   "version": "2.4.0"
  }
 },
 "nbformat": 4,
 "nbformat_minor": 5
}